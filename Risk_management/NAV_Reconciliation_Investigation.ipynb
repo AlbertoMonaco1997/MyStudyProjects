{
 "cells": [
  {
   "cell_type": "code",
   "execution_count": 8,
   "id": "9efc8f25-25b1-4372-a45c-fd465875dcd0",
   "metadata": {},
   "outputs": [
    {
     "name": "stdout",
     "output_type": "stream",
     "text": [
      "DataFrame df_external e df_internal creati.\n",
      "Admin Portfolio Total Value: 26,800,000.00 €\n",
      "Internal Portfolio Total Value: 29,200,000.00 €\n",
      "Total DIfference (internal-admin): 2,400,000.00 €\n",
      "None\n"
     ]
    }
   ],
   "source": [
    "import pandas as pd\n",
    "import numpy as np\n",
    "\n",
    "# Fund Administrator Report\n",
    "admin_data = {\n",
    "    'ISIN': ['US0378331005', 'US5949181045', 'IT0005433195', 'US02079K3059', 'DE0007664039'],\n",
    "    'AssetName': ['Apple Inc.', 'Microsoft Corp.', 'BTP Italia 2.5% 2030', 'Alphabet Inc.', 'Volkswagen AG'],\n",
    "    'Quantity': [50000, 10000, 50000, 20000, 30000],\n",
    "    'Price': [200.00, 400.00, 100.00, 150.00, 160.00],\n",
    "    'AssetClass': ['Equity', 'Equity', 'Gov Bond', 'Equity', 'Equity']\n",
    "}\n",
    "df_external = pd.DataFrame(admin_data)\n",
    "df_external['MarketValue'] = df_external['Quantity'] * df_external['Price']\n",
    "\n",
    "# Internal Report\n",
    "internal_data = {\n",
    "    'ISIN': ['US0378331005', 'US5949181045', 'US02079K3059', 'DE0007664039', 'FR0000120271'],\n",
    "    'AssetName': ['Apple Inc.', 'Microsoft Corp.', 'Alphabet Inc.', 'Volkswagen AG', 'LVMH'],\n",
    "    'Quantity': [50000, 9800, 20000, 30000, 10000],\n",
    "    'Price': [199.90, 400.00, 149.25, 160.00, 750.00],\n",
    "    'AssetClass': ['Equity', 'Equity', 'Equity', 'Equity', 'Equity']\n",
    "}\n",
    "df_internal = pd.DataFrame(internal_data)\n",
    "df_internal['MarketValue'] = df_internal['Quantity'] * df_internal['Price']\n",
    "\n",
    "print(\"DataFrame df_external e df_internal creati.\")\n",
    "print(f\"Admin Portfolio Total Value: {df_external['MarketValue'].sum():,.2f} €\")\n",
    "print(f\"Internal Portfolio Total Value: {df_internal['MarketValue'].sum():,.2f} €\")\n",
    "print(f\"Total DIfference (internal-admin): {df_internal['MarketValue'].sum()-df_external['MarketValue'].sum():,.2f} €\")"
   ]
  },
  {
   "cell_type": "code",
   "execution_count": 9,
   "id": "c1044fb4-a0db-4514-8bd9-94c35e20a0ba",
   "metadata": {},
   "outputs": [],
   "source": [
    "def reconcile_portfolios(df_internal, df_external):\n",
    "    \"\"\"Reconcile two portfolio reports to find differences\n",
    "        \n",
    "    Args:\n",
    "        df_internal (pd.DataFrame): Internal System DataFrame. \n",
    "                                    Must contain ['ISIN', 'Quantity', 'Price'].\n",
    "        df_external (pd.DataFrame): External System DataFrame.\n",
    "                                    Must contain ['ISIN', 'Quantity', 'Price'].\n",
    "\n",
    "    Returns:\n",
    "        pd.DataFrame: Dataframe that summarizes the differences classified per type, \n",
    "    \"\"\"\n",
    "\n",
    "    # merge with outer to keep both dataframes values and information\n",
    "    df_total = pd.merge(df_internal, df_external, on='ISIN', how='outer', indicator=True)\n",
    "    # replace nan with 0\n",
    "    numeric_cols = df_total.select_dtypes(include='number').columns\n",
    "    df_total[numeric_cols] = df_total[numeric_cols].fillna(value=0.)\n",
    "\n",
    "    # change names, calculate differences and drop extra columns\n",
    "    df_total['AssetName'] = df_total['AssetName_x'].fillna(df_total['AssetName_y'])\n",
    "    df_total['AssetClass'] = df_total['AssetClass_x'].fillna(df_total['AssetClass_y'])\n",
    "    df_total = df_total.rename(columns={'MarketValue_x': 'MarketValue_internal', 'MarketValue_y': 'MarketValue_external', 'Price_x': 'Price_internal',  'Price_y': 'Price_external', 'Quantity_x': 'Quantity_internal', 'Quantity_y': 'Quantity_external'})\n",
    "    df_total['diff_quantity'] = df_total['Quantity_internal']-df_total['Quantity_external']\n",
    "    df_total['diff_price'] = df_total['Price_internal']-df_total['Price_external']\n",
    "    df_infos = df_total.drop(columns = ['AssetName_x', 'AssetName_y', 'AssetClass_x', 'AssetClass_y'])\n",
    "\n",
    "    # build conditions \n",
    "    conditions = [(df_infos['_merge']=='right_only'), (df_infos['_merge']=='left_only'), (df_infos['diff_quantity']!=0), (df_infos['diff_price']!=0)]\n",
    "    message = ['Missing in internal', 'Extra in internal', 'Quantity Mismatch', 'Price Mismatch']\n",
    "    df_infos['break_type'] =  np.select(conditions, message, default='OK')\n",
    "\n",
    "    return df_infos[df_infos['break_type']!='OK'].loc[:, ['ISIN', 'AssetName', 'MarketValue_internal', 'MarketValue_external', 'break_type']]\n",
    "    # print(df_infos)"
   ]
  },
  {
   "cell_type": "code",
   "execution_count": 7,
   "id": "5f2d9a4b-17b2-4605-9094-cfbc6009aaa3",
   "metadata": {},
   "outputs": [
    {
     "name": "stdout",
     "output_type": "stream",
     "text": [
      "           ISIN             AssetName  MarketValue_internal  \\\n",
      "1  FR0000120271                  LVMH             7500000.0   \n",
      "2  IT0005433195  BTP Italia 2.5% 2030                   0.0   \n",
      "3  US02079K3059         Alphabet Inc.             2985000.0   \n",
      "4  US0378331005            Apple Inc.             9995000.0   \n",
      "5  US5949181045       Microsoft Corp.             3920000.0   \n",
      "\n",
      "   MarketValue_Admin           break_type  \n",
      "1                0.0  Missing in internal  \n",
      "2          5000000.0    Extra in internal  \n",
      "3          3000000.0       Price Mismatch  \n",
      "4         10000000.0       Price Mismatch  \n",
      "5          4000000.0    Quantity Mismatch  \n"
     ]
    }
   ],
   "source": [
    "print(reconcile_portfolios(df_internal, df_external))"
   ]
  },
  {
   "cell_type": "code",
   "execution_count": null,
   "id": "394e2edd-8b94-47d2-a4e0-7695e1f396f3",
   "metadata": {},
   "outputs": [],
   "source": []
  }
 ],
 "metadata": {
  "kernelspec": {
   "display_name": "Python [conda env:base] *",
   "language": "python",
   "name": "conda-base-py"
  },
  "language_info": {
   "codemirror_mode": {
    "name": "ipython",
    "version": 3
   },
   "file_extension": ".py",
   "mimetype": "text/x-python",
   "name": "python",
   "nbconvert_exporter": "python",
   "pygments_lexer": "ipython3",
   "version": "3.13.5"
  }
 },
 "nbformat": 4,
 "nbformat_minor": 5
}
