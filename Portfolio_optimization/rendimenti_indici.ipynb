{
 "cells": [
  {
   "cell_type": "code",
   "execution_count": null,
   "id": "b867b10f-4d42-4243-9ff0-2b412f924c8a",
   "metadata": {
    "collapsed": true,
    "jupyter": {
     "outputs_hidden": true,
     "source_hidden": true
    }
   },
   "outputs": [],
   "source": [
    "!pip install yfinance"
   ]
  },
  {
   "cell_type": "code",
   "execution_count": null,
   "id": "0bdf3130-a9d2-4c6c-a765-462b785818e7",
   "metadata": {
    "collapsed": true,
    "jupyter": {
     "outputs_hidden": true,
     "source_hidden": true
    }
   },
   "outputs": [],
   "source": [
    "import numpy as np\n",
    "import pandas as pd\n",
    "import yfinance as yf\n",
    "import matplotlib.pyplot as plt\n",
    "plt.style.use(\"seaborn-v0_8\")\n",
    "import seaborn\n",
    "import datetime\n",
    "import random\n",
    "import math\n"
   ]
  },
  {
   "cell_type": "code",
   "execution_count": null,
   "id": "2827263f-4050-4fd3-83f3-d1dde54872df",
   "metadata": {
    "collapsed": true,
    "jupyter": {
     "outputs_hidden": true,
     "source_hidden": true
    }
   },
   "outputs": [],
   "source": [
    "index_tickers = [\n",
    "    # --- Indici Azionari Globali / Sviluppati (Long History) ---\n",
    "    '^GSPC',        # **S&P 500 (USA Large Cap)** -\n",
    "    '^DJI',          # **Dow Jones Industrial Average (USA Blue Chip)**              \n",
    "    '^IXIC',        # **NASDAQ Composite (USA Tecnologia/Crescita)** -\n",
    "    '^RUT',          # Russell 2000 (USA Small Caps) -\n",
    "    '^FTSE',        # **FTSE 100 (Regno Unito)** -\n",
    "    '^GDAXI',       # **DAX (Germania)** - \n",
    "    '^STOXX50E',    # **Euro Stoxx 50 (Europa Blue Chip)** \n",
    "    '^N225',        # **Nikkei 225 (Giappone)**\n",
    "    '^HSI',         # **Hang Seng Index (Hong Kong)** \n",
    "    '000001.SS',    # SSE Composite Index (Cina Continentale)\n",
    "    \n",
    "    # --- Indici Azionari Aggiuntivi per Diversificazione (con buona storia) ---\n",
    "    '^FCHI',        # **CAC 40 (Francia)** - Indice principale della borsa di Parigi\n",
    "    '^AORD',        # **All Ordinaries (Australia)** - Indice azionario australiano\n",
    "    '^JKSE',        # **Jakarta Composite Index (Indonesia)** - Per esposizione a un mercato emergente asiatico storico\n",
    "    '^BVSP',        # **Ibovespa (Brasile)** - Indice principale del mercato azionario brasiliano\n",
    "    '^MXX',         # **IPC (Messico)** - Indice principale del mercato azionario messicano\n",
    "]\n",
    "\n",
    "bond_tickers=[\"^IRX\",\"^TNX\", \"^TYX\"]\n",
    "all_tickers = index_tickers + bond_tickers\n"
   ]
  },
  {
   "cell_type": "code",
   "execution_count": null,
   "id": "1dbabeb5-ac58-48e3-8aa6-168cff93d5b9",
   "metadata": {
    "collapsed": true,
    "jupyter": {
     "outputs_hidden": true,
     "source_hidden": true
    },
    "scrolled": true
   },
   "outputs": [],
   "source": [
    "data = yf.download(all_tickers, start=\"1997-01-01\", end=\"2024-12-31\", auto_adjust=True)['Close'] # download data close"
   ]
  },
  {
   "cell_type": "code",
   "execution_count": null,
   "id": "b054fc58-004c-4143-8d96-d52e5403964e",
   "metadata": {
    "collapsed": true,
    "jupyter": {
     "outputs_hidden": true,
     "source_hidden": true
    }
   },
   "outputs": [],
   "source": [
    "data.info()"
   ]
  },
  {
   "cell_type": "code",
   "execution_count": null,
   "id": "42433df3-a76f-408e-9058-dc9ff7c130f8",
   "metadata": {
    "collapsed": true,
    "jupyter": {
     "outputs_hidden": true,
     "source_hidden": true
    }
   },
   "outputs": [],
   "source": [
    "#fill intermediate holes and nan at the beginning of the period\n",
    "data = data.dropna(axis=1, how='all')\n",
    "data = data.ffill().bfill() \n",
    "data = data.dropna(axis=0, how='any') #remove dates if nan is still present\n",
    "data.info()"
   ]
  },
  {
   "cell_type": "code",
   "execution_count": null,
   "id": "a4f89f38-a2ae-4174-a341-5393a20323ee",
   "metadata": {
    "collapsed": true,
    "jupyter": {
     "outputs_hidden": true,
     "source_hidden": true
    }
   },
   "outputs": [],
   "source": [
    "# plot to see the behaviour of the assets considered\n",
    "for c in data.columns:\n",
    "  plt.figure()\n",
    "  plt.title(c)\n",
    "  data[c].plot(figsize=(20,10))\n",
    "  plt.show()"
   ]
  },
  {
   "cell_type": "code",
   "execution_count": null,
   "id": "2608299a-a514-4a1e-836a-8546f5aabe14",
   "metadata": {
    "collapsed": true,
    "jupyter": {
     "outputs_hidden": true,
     "source_hidden": true
    }
   },
   "outputs": [],
   "source": [
    "#split between equity and bonds\n",
    "valid_bond_yield_tickers = [t for t in bond_tickers if t in data.columns] \n",
    "valid_equity_tickers = [t for t in index_tickers if t in data.columns]\n",
    "bond_yields_data = data[valid_bond_yield_tickers]\n",
    "equity_prices = data[valid_equity_tickers]\n",
    "equity_prices.head()\n",
    "#bond_yields_data.tail()"
   ]
  },
  {
   "cell_type": "code",
   "execution_count": null,
   "id": "1ac89638-b1ab-4cf0-983f-3df024c6c025",
   "metadata": {
    "collapsed": true,
    "jupyter": {
     "outputs_hidden": true,
     "source_hidden": true
    }
   },
   "outputs": [],
   "source": [
    "rendimenti_azionario = equity_prices.pct_change().dropna() # calcola rendimenti \n",
    "df_ritorni = rendimenti_azionario.copy()\n",
    "df_ritorni.head()"
   ]
  },
  {
   "cell_type": "code",
   "execution_count": null,
   "id": "7354e740-8874-4e85-90cb-8e0a9969aa0b",
   "metadata": {
    "collapsed": true,
    "jupyter": {
     "outputs_hidden": true,
     "source_hidden": true
    }
   },
   "outputs": [],
   "source": [
    "\n",
    "#choose risk free asset\n",
    "risk_free_ticker = '^IRX' \n",
    "if risk_free_ticker in bond_yields_data.columns:\n",
    "    # Calcola il rendimento annualizzato medio storico di ^IRX (già in percentuale annuale)\n",
    "    # Nota: I dati di bond_yields_data sono già % annuali, quindi prendi la media.\n",
    "    R_f = bond_yields_data[risk_free_ticker].mean() "
   ]
  },
  {
   "cell_type": "code",
   "execution_count": null,
   "id": "0a9f58fc-edb4-4a3a-a603-c809b575d02e",
   "metadata": {
    "collapsed": true,
    "jupyter": {
     "outputs_hidden": true,
     "source_hidden": true
    }
   },
   "outputs": [],
   "source": [
    "#correlation\n",
    "plt.figure(figsize=(13,8))\n",
    "#seaborn.set(font_scale=1.2)\n",
    "seaborn.heatmap(df_ritorni.corr(),cmap=\"Reds\", annot=True, annot_kws={\"size\":12})"
   ]
  },
  {
   "cell_type": "code",
   "execution_count": null,
   "id": "99190f42-dc0b-43c4-a58d-685b52642095",
   "metadata": {
    "collapsed": true,
    "jupyter": {
     "outputs_hidden": true,
     "source_hidden": true
    }
   },
   "outputs": [],
   "source": [
    "#how many equally weighted portfolios can be created?\n",
    "x=math.factorial(len(df_ritorni.columns))\n",
    "for i in range(2,len(df_ritorni.columns)):\n",
    "  print(i,x/math.factorial(len(df_ritorni.columns)-i))"
   ]
  },
  {
   "cell_type": "code",
   "execution_count": null,
   "id": "9b27bc27-1f3f-42c4-acb1-13fed047e767",
   "metadata": {
    "collapsed": true,
    "jupyter": {
     "outputs_hidden": true,
     "source_hidden": true
    }
   },
   "outputs": [],
   "source": [
    "#produce covariances and produce single stock portfolios\n",
    "nomi = df_ritorni.columns.tolist()\n",
    "medie_annualizzate_decimali = (df_ritorni.mean() + 1)**252 - 1\n",
    "cov_annualizzata_decimali = df_ritorni.cov() * 252\n",
    "rows_tabella1 = []\n",
    "for k in range(len(df_ritorni.columns)):\n",
    "  w = np.zeros(len(df_ritorni.columns))\n",
    "  w[k]=1.00\n",
    "  w = w/sum(w)\n",
    "  rend_decimal = np.dot(medie_annualizzate_decimali, w)\n",
    "    \n",
    "  # Calculate portfolio variance (annualized, decimal^2)\n",
    "  variance_decimal = np.dot(w.T, np.dot(cov_annualizzata_decimali, w))\n",
    "    \n",
    "  # Correct: Calculate volatility (annualized, decimal)\n",
    "  vol_decimal = np.sqrt(variance_decimal) \n",
    "    \n",
    "#convert to percentage for display in the table\n",
    "  rend_percent = rend_decimal * 100\n",
    "  vol_percent = vol_decimal * 100\n",
    "  R_f_decimal_for_sharpe = R_f / 100.0 if R_f > 1 else R_f # Adjust based on how R_f is defined\n",
    "\n",
    "  quasi_sharpe = (rend_decimal - R_f_decimal_for_sharpe) / vol_decimal if vol_decimal != 0 else np.inf\n",
    "    \n",
    "# Prepare the row data with percentages for rend, vol, and weights\n",
    "  row_data = [rend_percent, vol_percent, quasi_sharpe] + list(w * 100)\n",
    "  rows_tabella1.append(row_data)\n",
    "tabella1 = pd.DataFrame(rows_tabella1, columns=[\"rendimento\", \"volatilità\", \"quasi Sharpe\"] + nomi)\n",
    "print(tabella1)\n"
   ]
  },
  {
   "cell_type": "code",
   "execution_count": null,
   "id": "3b83835a-c083-49e9-baa4-0372f5cb48d0",
   "metadata": {
    "collapsed": true,
    "jupyter": {
     "outputs_hidden": true,
     "source_hidden": true
    }
   },
   "outputs": [],
   "source": [
    "\n",
    "# prduce randomly generated portfolios\n",
    "rows_tabella = []\n",
    "quante=300000\n",
    "for k in range(quante):\n",
    "  w=np.random.normal(1,0.2,len(df_ritorni.columns))\n",
    "  w[w>1]=w[w>1]-1\n",
    "  w = w/sum(w)\n",
    "    \n",
    "  rend_decimal = np.dot(medie_annualizzate_decimali, w)  \n",
    "  # Calculate portfolio variance (annualized, decimal^2)\n",
    "  variance_decimal = np.dot(w.T, np.dot(cov_annualizzata_decimali, w))  \n",
    "  # Calculate volatility (annualized, decimal)\n",
    "  vol_decimal = np.sqrt(variance_decimal) \n",
    "  # convert to percentage for display in the table\n",
    "  rend_percent = rend_decimal * 100\n",
    "  vol_percent = vol_decimal * 100\n",
    "  R_f_decimal_for_sharpe = R_f / 100.0 if R_f > 1 else R_f # Adjust based on how R_f is defined\n",
    "\n",
    "  quasi_sharpe = (rend_decimal - R_f_decimal_for_sharpe) / vol_decimal if vol_decimal != 0 else np.inf\n",
    "  row_data = [rend_percent, vol_percent, quasi_sharpe] + list(w * 100)\n",
    "  rows_tabella.append(row_data)\n",
    "  if k%10000==0:\n",
    "    print(k)\n",
    "tabella = pd.DataFrame(rows_tabella, columns=[\"rendimento\",\"volatilità\", \"quasi Sharpe\"] + nomi)\n",
    "tabella.head()"
   ]
  },
  {
   "cell_type": "code",
   "execution_count": null,
   "id": "4fbb538c-6174-438a-8283-54bd1c7741b5",
   "metadata": {
    "collapsed": true,
    "jupyter": {
     "outputs_hidden": true,
     "source_hidden": true
    }
   },
   "outputs": [],
   "source": [
    "# print the scatter plot to see the efficient frontier and the CAL capital allocation line\n",
    "ax = tabella.plot.scatter(x=\"volatilità\",y=\"rendimento\", figsize=(20,9),fontsize=12,s=1,color=\"r\")\n",
    "axes = plt.gca()\n",
    "x=axes.get_xlim()\n",
    "y=axes.get_ylim()\n",
    "tabella1.plot.scatter(ax=ax,x=\"volatilità\",y=\"rendimento\", figsize=(20,9),fontsize=12,s=3,color=\"g\",xlim=x,ylim=y)\n",
    "#for i in tabella.index:\n",
    "   # plt.annotate(i,xy=(tabella.loc[i,\"varianza\"],tabella.loc[i,\"rendimento\"]),size=8)\n",
    "for i in tabella1.index:\n",
    "    plt.annotate(i,xy=(tabella1.loc[i,\"volatilità\"],tabella1.loc[i,\"rendimento\"]),size=10)\n",
    "plt.plot([0, tabella.loc[tabella[\"quasi Sharpe\"].idxmax(), 'volatilità'], tabella.loc[tabella[\"rendimento\"].idxmax(), 'volatilità']], [R_f, tabella.loc[tabella[\"quasi Sharpe\"].idxmax(), 'rendimento'], R_f+tabella[\"quasi Sharpe\"].max()*tabella.loc[tabella[\"rendimento\"].idxmax(), 'volatilità']], color='grey', linestyle='-', linewidth=2, marker='o', markersize=1, label='Linea tra Punti')"
   ]
  },
  {
   "cell_type": "code",
   "execution_count": null,
   "id": "8aeee1a4-10d4-415b-8b04-ca812ab2da11",
   "metadata": {
    "collapsed": true,
    "jupyter": {
     "outputs_hidden": true,
     "source_hidden": true
    }
   },
   "outputs": [],
   "source": [
    "tabella[\"rendimento\"].idxmax(),tabella.loc[tabella[\"rendimento\"].idxmax()]"
   ]
  },
  {
   "cell_type": "code",
   "execution_count": null,
   "id": "98addc73-5d40-4e4e-b26d-1b0c4542afac",
   "metadata": {
    "collapsed": true,
    "jupyter": {
     "outputs_hidden": true,
     "source_hidden": true
    }
   },
   "outputs": [],
   "source": [
    "tabella[\"volatilità\"].idxmin(),tabella.loc[tabella[\"volatilità\"].idxmin()]"
   ]
  },
  {
   "cell_type": "code",
   "execution_count": null,
   "id": "9b8e5abb-13de-41bd-915d-9669ac02db3b",
   "metadata": {
    "collapsed": true,
    "jupyter": {
     "outputs_hidden": true,
     "source_hidden": true
    }
   },
   "outputs": [],
   "source": [
    "tabella[\"quasi Sharpe\"].idxmax(),tabella.loc[tabella[\"quasi Sharpe\"].idxmax()]"
   ]
  },
  {
   "cell_type": "code",
   "execution_count": null,
   "id": "7b84e4de-93e2-449c-a7bb-6faaa98ed003",
   "metadata": {
    "collapsed": true,
    "jupyter": {
     "outputs_hidden": true,
     "source_hidden": true
    }
   },
   "outputs": [],
   "source": []
  }
 ],
 "metadata": {
  "kernelspec": {
   "display_name": "Python [conda env:base] *",
   "language": "python",
   "name": "conda-base-py"
  },
  "language_info": {
   "codemirror_mode": {
    "name": "ipython",
    "version": 3
   },
   "file_extension": ".py",
   "mimetype": "text/x-python",
   "name": "python",
   "nbconvert_exporter": "python",
   "pygments_lexer": "ipython3",
   "version": "3.13.5"
  }
 },
 "nbformat": 4,
 "nbformat_minor": 5
}
